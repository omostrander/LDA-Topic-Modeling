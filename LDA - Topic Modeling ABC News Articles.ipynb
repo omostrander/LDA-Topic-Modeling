{
 "cells": [
  {
   "cell_type": "code",
   "execution_count": null,
   "id": "ad388e1c",
   "metadata": {},
   "outputs": [],
   "source": [
    "import os\n",
    "import pandas as pd"
   ]
  },
  {
   "cell_type": "code",
   "execution_count": 2,
   "id": "beefd6a2",
   "metadata": {},
   "outputs": [],
   "source": [
    "#print items in working directory\n",
    "for dirname, _, filenames in os.walk('/kaggle/input'):\n",
    "    for filename in filenames:\n",
    "        print(os.path.join(dirname, filename))"
   ]
  },
  {
   "cell_type": "code",
   "execution_count": null,
   "id": "42ee7b89",
   "metadata": {},
   "outputs": [],
   "source": [
    "#Load the dataset from the csv and save it to 'data_text'\n",
    "data = pd.read_csv('../input/abcnewsdata/abcnews-date-text.csv', error_bad_lines=False)\n",
    "\n",
    "# we only need to headlines from the data\n",
    "data_text = data[:300000][['headline_text']]\n",
    "data_text['index'] = data_text.index\n",
    "documents = data_text"
   ]
  }
 ],
 "metadata": {
  "kernelspec": {
   "display_name": "Python 3 (ipykernel)",
   "language": "python",
   "name": "python3"
  },
  "language_info": {
   "codemirror_mode": {
    "name": "ipython",
    "version": 3
   },
   "file_extension": ".py",
   "mimetype": "text/x-python",
   "name": "python",
   "nbconvert_exporter": "python",
   "pygments_lexer": "ipython3",
   "version": "3.10.2"
  }
 },
 "nbformat": 4,
 "nbformat_minor": 5
}
